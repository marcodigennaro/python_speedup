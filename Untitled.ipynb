{
 "cells": [
  {
   "cell_type": "code",
   "execution_count": 1,
   "id": "2b20c787-84b7-412c-bfaf-b916737d936a",
   "metadata": {
    "execution": {
     "iopub.execute_input": "2024-05-27T07:46:30.345553Z",
     "iopub.status.busy": "2024-05-27T07:46:30.345098Z",
     "iopub.status.idle": "2024-05-27T07:46:30.753756Z",
     "shell.execute_reply": "2024-05-27T07:46:30.752303Z",
     "shell.execute_reply.started": "2024-05-27T07:46:30.345514Z"
    }
   },
   "outputs": [],
   "source": [
    "from python_speedup.longest_common_subsequence import lcs"
   ]
  },
  {
   "cell_type": "code",
   "execution_count": 2,
   "id": "fdec1e3f-f1a2-42d1-92c5-68add34af6a4",
   "metadata": {
    "execution": {
     "iopub.execute_input": "2024-05-27T07:46:30.758589Z",
     "iopub.status.busy": "2024-05-27T07:46:30.757162Z",
     "iopub.status.idle": "2024-05-27T07:46:30.772273Z",
     "shell.execute_reply": "2024-05-27T07:46:30.770118Z",
     "shell.execute_reply.started": "2024-05-27T07:46:30.758549Z"
    }
   },
   "outputs": [
    {
     "data": {
      "text/plain": [
       "7"
      ]
     },
     "execution_count": 2,
     "metadata": {},
     "output_type": "execute_result"
    }
   ],
   "source": [
    "lcs('hello world', 'hello all')"
   ]
  },
  {
   "cell_type": "code",
   "execution_count": 7,
   "id": "e6608030-fe54-4db0-b221-28dfa9694a88",
   "metadata": {
    "execution": {
     "iopub.execute_input": "2024-05-27T07:46:54.199770Z",
     "iopub.status.busy": "2024-05-27T07:46:54.199362Z",
     "iopub.status.idle": "2024-05-27T07:46:54.212285Z",
     "shell.execute_reply": "2024-05-27T07:46:54.211291Z",
     "shell.execute_reply.started": "2024-05-27T07:46:54.199741Z"
    }
   },
   "outputs": [
    {
     "data": {
      "text/plain": [
       "array([69, 22, 78, 31, 20, 79, 64, 67, 98, 39, 83, 33, 56, 59, 21, 18, 22,\n",
       "       67, 61, 94, 70, 24, 91, 94, 73, 66, 13,  9, 26, 44,  7, 88, 47, 69,\n",
       "       21, 32, 11, 73, 77, 22, 71,  8, 39, 15, 74, 34, 47, 46, 47, 26, 55,\n",
       "       81, 49, 19,  2, 12,  8,  9, 12, 59, 80, 85, 65, 60, 33, 93, 64, 72,\n",
       "       73, 86, 70, 92, 54, 54, 25, 93, 55, 49, 31, 27, 63, 45, 56, 66, 89,\n",
       "       33, 68, 90, 45, 25, 29, 33, 62, 25, 83, 35,  6,  0,  2, 62],\n",
       "      dtype=int32)"
      ]
     },
     "execution_count": 7,
     "metadata": {},
     "output_type": "execute_result"
    }
   ],
   "source": [
    "import numpy as np\n",
    "rng = np.random.default_rng(12345)\n",
    "n = 100\n",
    "a = rng.integers(0, 100, n, dtype=np.int32)\n",
    "b = rng.integers(0, 100, n, dtype=np.int32)\n",
    "a"
   ]
  },
  {
   "cell_type": "code",
   "execution_count": 4,
   "id": "24ae7544-a2ae-467b-b97c-a978474608fa",
   "metadata": {
    "execution": {
     "iopub.execute_input": "2024-05-27T07:46:30.794603Z",
     "iopub.status.busy": "2024-05-27T07:46:30.793535Z",
     "iopub.status.idle": "2024-05-27T07:46:30.838826Z",
     "shell.execute_reply": "2024-05-27T07:46:30.828782Z",
     "shell.execute_reply.started": "2024-05-27T07:46:30.794566Z"
    }
   },
   "outputs": [
    {
     "data": {
      "text/plain": [
       "16"
      ]
     },
     "execution_count": 4,
     "metadata": {},
     "output_type": "execute_result"
    }
   ],
   "source": [
    "lcs(a, b)"
   ]
  },
  {
   "cell_type": "code",
   "execution_count": 5,
   "id": "ef31f454-4dea-459c-9554-8e9d82be5e8d",
   "metadata": {
    "execution": {
     "iopub.execute_input": "2024-05-27T07:46:30.860554Z",
     "iopub.status.busy": "2024-05-27T07:46:30.858324Z",
     "iopub.status.idle": "2024-05-27T07:46:30.940499Z",
     "shell.execute_reply": "2024-05-27T07:46:30.938930Z",
     "shell.execute_reply.started": "2024-05-27T07:46:30.860513Z"
    }
   },
   "outputs": [
    {
     "data": {
      "text/plain": [
       "16"
      ]
     },
     "execution_count": 5,
     "metadata": {},
     "output_type": "execute_result"
    }
   ],
   "source": [
    "from python_speedup.longest_common_subsequence import lcs_numpy\n",
    "lcs_numpy(a, b)"
   ]
  },
  {
   "cell_type": "code",
   "execution_count": 6,
   "id": "549ecdcc-c442-4dc7-a17c-2637a841b2b2",
   "metadata": {
    "execution": {
     "iopub.execute_input": "2024-05-27T07:46:30.944615Z",
     "iopub.status.busy": "2024-05-27T07:46:30.943611Z",
     "iopub.status.idle": "2024-05-27T07:46:31.332960Z",
     "shell.execute_reply": "2024-05-27T07:46:31.331347Z",
     "shell.execute_reply.started": "2024-05-27T07:46:30.944574Z"
    }
   },
   "outputs": [
    {
     "ename": "TypeError",
     "evalue": "list object expected; got numpy.ndarray",
     "output_type": "error",
     "traceback": [
      "\u001b[0;31m---------------------------------------------------------------------------\u001b[0m",
      "\u001b[0;31mTypeError\u001b[0m                                 Traceback (most recent call last)",
      "Cell \u001b[0;32mIn[6], line 2\u001b[0m\n\u001b[1;32m      1\u001b[0m \u001b[38;5;28;01mfrom\u001b[39;00m \u001b[38;5;21;01mpython_speedup\u001b[39;00m\u001b[38;5;21;01m.\u001b[39;00m\u001b[38;5;21;01mlcs_mypyc\u001b[39;00m \u001b[38;5;28;01mimport\u001b[39;00m lcs \u001b[38;5;28;01mas\u001b[39;00m lcs_mypyc\n\u001b[0;32m----> 2\u001b[0m \u001b[43mlcs_mypyc\u001b[49m\u001b[43m(\u001b[49m\u001b[43ma\u001b[49m\u001b[43m,\u001b[49m\u001b[43m \u001b[49m\u001b[43mb\u001b[49m\u001b[43m)\u001b[49m\n",
      "File \u001b[0;32m~/Work/python_speedup/python_speedup/lcs_mypyc.py:3\u001b[0m, in \u001b[0;36mlcs\u001b[0;34m()\u001b[0m\n\u001b[1;32m      1\u001b[0m \u001b[38;5;28;01mimport\u001b[39;00m \u001b[38;5;21;01mnumpy\u001b[39;00m \u001b[38;5;28;01mas\u001b[39;00m \u001b[38;5;21;01mnp\u001b[39;00m\n\u001b[0;32m----> 3\u001b[0m \u001b[38;5;28;01mdef\u001b[39;00m \u001b[38;5;21mlcs\u001b[39m(a: \u001b[38;5;28mlist\u001b[39m[\u001b[38;5;28mint\u001b[39m], b: \u001b[38;5;28mlist\u001b[39m[\u001b[38;5;28mint\u001b[39m]) \u001b[38;5;241m-\u001b[39m\u001b[38;5;241m>\u001b[39m \u001b[38;5;28mint\u001b[39m:\n\u001b[1;32m      4\u001b[0m \u001b[38;5;250m    \u001b[39m\u001b[38;5;124;03m\"\"\"\u001b[39;00m\n\u001b[1;32m      5\u001b[0m \u001b[38;5;124;03m    Calculate the length of the longest common subsequence between two sequences using NumPy for enhanced\u001b[39;00m\n\u001b[1;32m      6\u001b[0m \u001b[38;5;124;03m    performance. This function is annotated for compatibility with MyPyC, which can compile it to a C extension for\u001b[39;00m\n\u001b[0;32m   (...)\u001b[0m\n\u001b[1;32m     17\u001b[0m \u001b[38;5;124;03m    int: The length of the longest common subsequence.\u001b[39;00m\n\u001b[1;32m     18\u001b[0m \u001b[38;5;124;03m    \"\"\"\u001b[39;00m\n\u001b[1;32m     19\u001b[0m     \u001b[38;5;66;03m# Initialize a 2D NumPy array with dimensions (len(a)+1) x (len(b)+1), filled with zeros\u001b[39;00m\n",
      "\u001b[0;31mTypeError\u001b[0m: list object expected; got numpy.ndarray"
     ]
    }
   ],
   "source": [
    "from python_speedup.lcs_mypyc import lcs as lcs_mypyc\n",
    "lcs_mypyc(a, b)"
   ]
  }
 ],
 "metadata": {
  "kernelspec": {
   "display_name": "Python 3 (ipykernel)",
   "language": "python",
   "name": "python3"
  },
  "language_info": {
   "codemirror_mode": {
    "name": "ipython",
    "version": 3
   },
   "file_extension": ".py",
   "mimetype": "text/x-python",
   "name": "python",
   "nbconvert_exporter": "python",
   "pygments_lexer": "ipython3",
   "version": "3.12.3"
  }
 },
 "nbformat": 4,
 "nbformat_minor": 5
}
